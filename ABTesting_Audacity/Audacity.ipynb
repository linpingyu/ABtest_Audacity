{
 "cells": [
  {
   "cell_type": "markdown",
   "metadata": {},
   "source": [
    "# A/B Testing Case Study with Audacity"
   ]
  },
  {
   "cell_type": "markdown",
   "metadata": {},
   "source": [
    "## Table of contents<a id='toc'></a>\n",
    "\n",
    "1. [Overview](#overview)\n",
    "2. [Packages](#package)\n",
    "3. [Experiment](#experiment)\n",
    "    1. [Homepage re-design](#homepage)\n",
    "    2. [Course description re-design](#cDescription)\n",
    "        1. [Enrollment rate](#enroll_rate)\n",
    "        2. [Average reading duration](#avg_reading)\n",
    "        3. [Average classroom time](#avg_classroom)\n",
    "        4. [Completion rate](#completion)\n",
    "        5. [Analyzing multiple metrics](#multiple_metrics)\n",
    "4. [Difficulties in A/B Testing](#difficulties)\n",
    "    1. [Scenario 1](#s1)\n",
    "    2. [Scenario 2](#s2)\n",
    "    3. [Scenario 3](#s3)\n",
    "    4. [Common factors to consider](#common_factor)"
   ]
  },
  {
   "cell_type": "markdown",
   "metadata": {},
   "source": [
    "## Overview <a id='overview'></a>\n",
    "\n",
    "In this case study, we’ll analyze A/B test results for Audacity. Here's the customer funnel for typical new users on their site:\n",
    "\n",
    "<strong><center>View home page > Explore courses > View course overview page > Enroll in course > Complete course</center></strong>\n",
    "\n",
    "<img src=\"image/user_flow.png\" width=\"300\">\n",
    "\n",
    "Audacity loses users as they go down the stages of this funnel, with only a few making it to the end. To increase student engagement, Audacity is performing A/B tests to try out changes that will hopefully increase conversion rates from one stage to the next.\n",
    "\n",
    "We’ll analyze test results for two changes they have in mind, and then make a recommendation on whether they should launch each change."
   ]
  },
  {
   "cell_type": "markdown",
   "metadata": {},
   "source": [
    "## Packages <a id='package'></a>\n",
    "* `Pandas`, `Numpy` for data manipulation\n",
    "* `Matplotlib.pyplot`, `Seaborn` for data visualization"
   ]
  },
  {
   "cell_type": "code",
   "execution_count": 1,
   "metadata": {},
   "outputs": [],
   "source": [
    "import pandas as pd\n",
    "import numpy as np\n",
    "import matplotlib.pyplot as plt"
   ]
  },
  {
   "cell_type": "markdown",
   "metadata": {},
   "source": [
    "## Experiment <a id='experiment'></a>"
   ]
  },
  {
   "cell_type": "markdown",
   "metadata": {},
   "source": [
    "### Homepage re-design <a id='homepage'></a>\n",
    "\n",
    "The first change Audacity wants to try is on their homepage. They hope that this new, more engaging design will increase the number of users that explore their courses, that is, move on to the second stage of the funnel.\n",
    "\n",
    "Current Home Page | New Home Page\n",
    "- | - \n",
    "<img src=\"image/current_home_page.png\" width=\"300\"> | <img src=\"image/new_home_page.png\" width=\"300\"> \n",
    "\n",
    "The metric we will use is the click through rate for the Explore Courses button on the home page. **Click through rate (CTR)** is often defined as the the number of clicks divided by the number of views. Since Audacity uses cookies, we can identify unique users and make sure we don't count the same one multiple times. For this experiment, we'll define our click through rate as:\n",
    "\n",
    "<strong><center>CTR: # clicks by unique users / # views by unique users</center></strong>\n",
    "\n",
    "Now that we have our metric, let's set up our null and alternative hypotheses:\n",
    "\n",
    "$$H_0: CTR_{new} \\leq CTR _{old}$$\n",
    "\n",
    "$$H_1: CTR_{new} > CTR _{old}$$\n",
    "\n",
    "Our alternative hypothesis is what we want to prove to be true, in this case, that the new homepage design has a higher click through rate than the old homepage design. And the null hypothesis is what we assume to be true before analyzing data, which is that the new homepage design has a click through rate that is less than or equal to that of the old homepage design. As you’ve seen before, we can rearrange our hypotheses to look like this:\n",
    "\n",
    "$$H_0: CTR_{new} - CTR_{old} \\leq 0$$\n",
    "\n",
    "$$H_1: CTR_{new} - CTR_{old} > 0$$"
   ]
  },
  {
   "cell_type": "markdown",
   "metadata": {},
   "source": [
    "We use click through rate instead of number of clicks to compare the performances of control and experiment pages is mainly because:\n",
    "\n",
    "1. The control and experiment pages could have different numbers of total visitors.\n",
    "\n",
    "2. More total clicks could occur in one version, even if there is a greater percentage of clicks in the other version."
   ]
  },
  {
   "cell_type": "markdown",
   "metadata": {},
   "source": [
    "We define the click through rate in this experiment as: **The number of unique visitors who click at least once divided by the number of unique visitors who view the page**."
   ]
  },
  {
   "cell_type": "code",
   "execution_count": 2,
   "metadata": {},
   "outputs": [
    {
     "data": {
      "text/html": [
       "<div>\n",
       "<style scoped>\n",
       "    .dataframe tbody tr th:only-of-type {\n",
       "        vertical-align: middle;\n",
       "    }\n",
       "\n",
       "    .dataframe tbody tr th {\n",
       "        vertical-align: top;\n",
       "    }\n",
       "\n",
       "    .dataframe thead th {\n",
       "        text-align: right;\n",
       "    }\n",
       "</style>\n",
       "<table border=\"1\" class=\"dataframe\">\n",
       "  <thead>\n",
       "    <tr style=\"text-align: right;\">\n",
       "      <th></th>\n",
       "      <th>timestamp</th>\n",
       "      <th>id</th>\n",
       "      <th>group</th>\n",
       "      <th>action</th>\n",
       "    </tr>\n",
       "  </thead>\n",
       "  <tbody>\n",
       "    <tr>\n",
       "      <th>0</th>\n",
       "      <td>2016-09-24 17:42:27.839496</td>\n",
       "      <td>804196</td>\n",
       "      <td>experiment</td>\n",
       "      <td>view</td>\n",
       "    </tr>\n",
       "    <tr>\n",
       "      <th>1</th>\n",
       "      <td>2016-09-24 19:19:03.542569</td>\n",
       "      <td>434745</td>\n",
       "      <td>experiment</td>\n",
       "      <td>view</td>\n",
       "    </tr>\n",
       "    <tr>\n",
       "      <th>2</th>\n",
       "      <td>2016-09-24 19:36:00.944135</td>\n",
       "      <td>507599</td>\n",
       "      <td>experiment</td>\n",
       "      <td>view</td>\n",
       "    </tr>\n",
       "    <tr>\n",
       "      <th>3</th>\n",
       "      <td>2016-09-24 19:59:02.646620</td>\n",
       "      <td>671993</td>\n",
       "      <td>control</td>\n",
       "      <td>view</td>\n",
       "    </tr>\n",
       "    <tr>\n",
       "      <th>4</th>\n",
       "      <td>2016-09-24 20:26:14.466886</td>\n",
       "      <td>536734</td>\n",
       "      <td>experiment</td>\n",
       "      <td>view</td>\n",
       "    </tr>\n",
       "  </tbody>\n",
       "</table>\n",
       "</div>"
      ],
      "text/plain": [
       "                    timestamp      id       group action\n",
       "0  2016-09-24 17:42:27.839496  804196  experiment   view\n",
       "1  2016-09-24 19:19:03.542569  434745  experiment   view\n",
       "2  2016-09-24 19:36:00.944135  507599  experiment   view\n",
       "3  2016-09-24 19:59:02.646620  671993     control   view\n",
       "4  2016-09-24 20:26:14.466886  536734  experiment   view"
      ]
     },
     "execution_count": 2,
     "metadata": {},
     "output_type": "execute_result"
    }
   ],
   "source": [
    "df = pd.read_csv('data/homepage_actions.csv')\n",
    "df.head()"
   ]
  },
  {
   "cell_type": "markdown",
   "metadata": {},
   "source": [
    "##### Some basic statistics of the experiment"
   ]
  },
  {
   "cell_type": "code",
   "execution_count": 3,
   "metadata": {},
   "outputs": [
    {
     "name": "stdout",
     "output_type": "stream",
     "text": [
      "The experiment started at 2016-09-24, and ended at 2017-01-18 for about 4 months.\n"
     ]
    }
   ],
   "source": [
    "print('The experiment started at {}, and ended at {} for about 4 months.'.format(df.timestamp.min()[:10], df.timestamp.max()[:10]))"
   ]
  },
  {
   "cell_type": "code",
   "execution_count": 4,
   "metadata": {},
   "outputs": [
    {
     "name": "stdout",
     "output_type": "stream",
     "text": [
      "The actions recorded are view and click.\n"
     ]
    }
   ],
   "source": [
    "print(f'The actions recorded are {df.action.unique()[0]} and {df.action.unique()[1]}.')"
   ]
  },
  {
   "cell_type": "code",
   "execution_count": 5,
   "metadata": {},
   "outputs": [
    {
     "name": "stdout",
     "output_type": "stream",
     "text": [
      "Total number of actions: 8188\n",
      "Number of unique users: 6328\n",
      "Control group size: 3332\n",
      "Experiment group size: 2996\n"
     ]
    }
   ],
   "source": [
    "print('Total number of actions: {}'.format(df.shape[0]))\n",
    "print('Number of unique users: {}'.format(df.id.nunique()))\n",
    "print('Control group size: {}'.format(df.query('group == \"control\"').id.nunique()))\n",
    "print('Experiment group size: {}'.format(df.query('group == \"experiment\"').id.nunique()))"
   ]
  },
  {
   "cell_type": "markdown",
   "metadata": {},
   "source": [
    "##### Does the experiment page drive higher traffic than the control page?"
   ]
  },
  {
   "cell_type": "code",
   "execution_count": 6,
   "metadata": {},
   "outputs": [
    {
     "name": "stdout",
     "output_type": "stream",
     "text": [
      "The control group CTR is about 0.27971.\n"
     ]
    }
   ],
   "source": [
    "control_df = df.query('group == \"control\"')\n",
    "control_ctr = control_df.query('action == \"click\"').id.nunique() / control_df.query('action == \"view\"').id.nunique()\n",
    "print(f'The control group CTR is about {control_ctr:.5f}.')"
   ]
  },
  {
   "cell_type": "code",
   "execution_count": 7,
   "metadata": {},
   "outputs": [
    {
     "name": "stdout",
     "output_type": "stream",
     "text": [
      "The experiment group CTR is about 0.30975.\n"
     ]
    }
   ],
   "source": [
    "experiment_df = df.query('group == \"experiment\"')\n",
    "experiment_ctr = experiment_df.query('action == \"click\"').id.nunique() / experiment_df.query('action == \"view\"').id.nunique()\n",
    "print(f'The experiment group CTR is about {experiment_ctr:.5f}.')"
   ]
  },
  {
   "cell_type": "markdown",
   "metadata": {},
   "source": [
    "* **We computed the observed difference between the metric, click through rate, for the control and experiment group.**"
   ]
  },
  {
   "cell_type": "code",
   "execution_count": 8,
   "metadata": {},
   "outputs": [
    {
     "name": "stdout",
     "output_type": "stream",
     "text": [
      "The observed difference is about 0.03003.\n"
     ]
    }
   ],
   "source": [
    "obs_diff = experiment_ctr - control_ctr\n",
    "print(f'The observed difference is about {obs_diff:.5f}.')"
   ]
  },
  {
   "cell_type": "markdown",
   "metadata": {},
   "source": [
    "* **We simulated the sampling distribution for the difference in proportions (or difference in click through rates).**"
   ]
  },
  {
   "cell_type": "code",
   "execution_count": 9,
   "metadata": {},
   "outputs": [
    {
     "data": {
      "image/png": "[encoded data removed]",
      "text/plain": [
       "<Figure size 432x288 with 1 Axes>"
      ]
     },
     "metadata": {
      "needs_background": "light"
     },
     "output_type": "display_data"
    }
   ],
   "source": [
    "diffs = []\n",
    "for _ in range(10000):\n",
    "    b_sample = df.sample(df.shape[0], replace=True) #bootstrap sampling\n",
    "    control_df = b_sample.query('group == \"control\"')\n",
    "    experiment_df = b_sample.query('group == \"experiment\"')\n",
    "    control_ctr = control_df.query('action == \"click\"').id.nunique() / control_df.query('action == \"view\"').id.nunique()\n",
    "    experiment_ctr = experiment_df.query('action == \"click\"').id.nunique() / experiment_df.query('action == \"view\"').id.nunique()\n",
    "    diffs.append(experiment_ctr - control_ctr)\n",
    "diffs = np.array(diffs)\n",
    "plt.hist(diffs, bins=50);"
   ]
  },
  {
   "cell_type": "markdown",
   "metadata": {},
   "source": [
    "* **We used this sampling distribution to simulate the distribution under the null hypothesis, by creating a random normal distribution centered at 0 with the same spread and size.**"
   ]
  },
  {
   "cell_type": "code",
   "execution_count": 10,
   "metadata": {},
   "outputs": [
    {
     "data": {
      "image/png": "[encoded data removed]",
      "text/plain": [
       "<Figure size 432x288 with 1 Axes>"
      ]
     },
     "metadata": {
      "needs_background": "light"
     },
     "output_type": "display_data"
    }
   ],
   "source": [
    "np.random.seed(42)\n",
    "null_vals = np.random.normal(0, diffs.std(), diffs.size)\n",
    "\n",
    "ax = plt.hist(null_vals, bins=50)\n",
    "plt.axvline(x=obs_diff, color='red', linestyle='--')\n",
    "plt.text(x = obs_diff*1.05, y = ax[0].mean(), s=' observed\\ndifference');"
   ]
  },
  {
   "cell_type": "markdown",
   "metadata": {},
   "source": [
    "* **We computed the p-value by finding the proportion of values in the null distribution that were greater than our observed difference.**"
   ]
  },
  {
   "cell_type": "code",
   "execution_count": 11,
   "metadata": {},
   "outputs": [
    {
     "name": "stdout",
     "output_type": "stream",
     "text": [
      "The p-value is 0.00660\n"
     ]
    }
   ],
   "source": [
    "p_value = (null_vals > obs_diff).mean()\n",
    "print(f'The p-value is {p_value:.5f}')"
   ]
  },
  {
   "cell_type": "markdown",
   "metadata": {},
   "source": [
    "* **We used this p-value to determine the statistical significance of our observed difference.**"
   ]
  },
  {
   "cell_type": "markdown",
   "metadata": {},
   "source": [
    "**With a type I error rate of 0.05, we reject the null hypothesis, and decide to implement the new (experiment) homepage.**"
   ]
  },
  {
   "cell_type": "markdown",
   "metadata": {},
   "source": [
    "### Course description re-design <a id='cDescription'></a>\n",
    "\n",
    "The second change Audacity is A/B testing is a more career focused description on a course overview page. They hope that this change may encourage more users to enroll and complete this course. \n",
    "\n",
    "Current Course Description | New Course Description\n",
    "- | - \n",
    "<img src=\"image/current_course_page.png\" width=\"300\"> | <img src=\"image/new_course_page.png\" width=\"300\"> \n",
    "\n",
    "In this experiment, we’re going to analyze the following metrics:\n",
    "\n",
    "1. **Enrollment Rate:** Click through rate for the Enroll button the course overview page\n",
    "2. **Average Reading Duration:** Average number of seconds spent on the course overview page\n",
    "3. **Average Classroom Time:** Average number of days spent in the classroom for students enrolled in the course\n",
    "4. **Completion Rate:** Course completion rate for students enrolled in the course"
   ]
  },
  {
   "cell_type": "code",
   "execution_count": 12,
   "metadata": {},
   "outputs": [],
   "source": [
    "p_values = [] # we initialize a list to store p-values of each experiment."
   ]
  },
  {
   "cell_type": "markdown",
   "metadata": {},
   "source": [
    "First, let's determine if the difference observed for each metric is statistically significant individually."
   ]
  },
  {
   "cell_type": "markdown",
   "metadata": {},
   "source": [
    "#### Enrollment Rate <a id='enroll_rate'></a>"
   ]
  },
  {
   "cell_type": "code",
   "execution_count": 13,
   "metadata": {},
   "outputs": [
    {
     "data": {
      "text/html": [
       "<div>\n",
       "<style scoped>\n",
       "    .dataframe tbody tr th:only-of-type {\n",
       "        vertical-align: middle;\n",
       "    }\n",
       "\n",
       "    .dataframe tbody tr th {\n",
       "        vertical-align: top;\n",
       "    }\n",
       "\n",
       "    .dataframe thead th {\n",
       "        text-align: right;\n",
       "    }\n",
       "</style>\n",
       "<table border=\"1\" class=\"dataframe\">\n",
       "  <thead>\n",
       "    <tr style=\"text-align: right;\">\n",
       "      <th></th>\n",
       "      <th>timestamp</th>\n",
       "      <th>id</th>\n",
       "      <th>group</th>\n",
       "      <th>action</th>\n",
       "      <th>duration</th>\n",
       "    </tr>\n",
       "  </thead>\n",
       "  <tbody>\n",
       "    <tr>\n",
       "      <th>0</th>\n",
       "      <td>2016-09-24 17:14:52.012145</td>\n",
       "      <td>261869</td>\n",
       "      <td>experiment</td>\n",
       "      <td>view</td>\n",
       "      <td>130.545004</td>\n",
       "    </tr>\n",
       "    <tr>\n",
       "      <th>1</th>\n",
       "      <td>2016-09-24 18:45:09.645857</td>\n",
       "      <td>226546</td>\n",
       "      <td>experiment</td>\n",
       "      <td>view</td>\n",
       "      <td>159.862440</td>\n",
       "    </tr>\n",
       "    <tr>\n",
       "      <th>2</th>\n",
       "      <td>2016-09-24 19:16:21.002533</td>\n",
       "      <td>286353</td>\n",
       "      <td>experiment</td>\n",
       "      <td>view</td>\n",
       "      <td>79.349315</td>\n",
       "    </tr>\n",
       "    <tr>\n",
       "      <th>3</th>\n",
       "      <td>2016-09-24 19:43:06.927785</td>\n",
       "      <td>842279</td>\n",
       "      <td>experiment</td>\n",
       "      <td>view</td>\n",
       "      <td>55.536126</td>\n",
       "    </tr>\n",
       "    <tr>\n",
       "      <th>4</th>\n",
       "      <td>2016-09-24 21:08:22.790333</td>\n",
       "      <td>781883</td>\n",
       "      <td>experiment</td>\n",
       "      <td>view</td>\n",
       "      <td>204.322437</td>\n",
       "    </tr>\n",
       "  </tbody>\n",
       "</table>\n",
       "</div>"
      ],
      "text/plain": [
       "                    timestamp      id       group action    duration\n",
       "0  2016-09-24 17:14:52.012145  261869  experiment   view  130.545004\n",
       "1  2016-09-24 18:45:09.645857  226546  experiment   view  159.862440\n",
       "2  2016-09-24 19:16:21.002533  286353  experiment   view   79.349315\n",
       "3  2016-09-24 19:43:06.927785  842279  experiment   view   55.536126\n",
       "4  2016-09-24 21:08:22.790333  781883  experiment   view  204.322437"
      ]
     },
     "execution_count": 13,
     "metadata": {},
     "output_type": "execute_result"
    }
   ],
   "source": [
    "df = pd.read_csv('data/course_page_actions.csv')\n",
    "df.head()"
   ]
  },
  {
   "cell_type": "markdown",
   "metadata": {},
   "source": [
    "##### Some basic statistics of the experiment"
   ]
  },
  {
   "cell_type": "code",
   "execution_count": 14,
   "metadata": {},
   "outputs": [
    {
     "name": "stdout",
     "output_type": "stream",
     "text": [
      "The experiment started at 2016-09-24, and ended at 2017-01-18 for about 4 months.\n"
     ]
    }
   ],
   "source": [
    "print('The experiment started at {}, and ended at {} for about 4 months.'.format(df.timestamp.min()[:10], df.timestamp.max()[:10]))"
   ]
  },
  {
   "cell_type": "code",
   "execution_count": 15,
   "metadata": {},
   "outputs": [
    {
     "name": "stdout",
     "output_type": "stream",
     "text": [
      "The actions recorded are view and enroll.\n"
     ]
    }
   ],
   "source": [
    "print(f'The actions recorded are {df.action.unique()[0]} and {df.action.unique()[1]}.')"
   ]
  },
  {
   "cell_type": "code",
   "execution_count": 16,
   "metadata": {},
   "outputs": [
    {
     "name": "stdout",
     "output_type": "stream",
     "text": [
      "Total number of actions: 4074\n",
      "Number of unique users: 4028\n",
      "Control group size: 1949\n",
      "Experiment group size: 2079\n"
     ]
    }
   ],
   "source": [
    "print('Total number of actions: {}'.format(df.shape[0]))\n",
    "print('Number of unique users: {}'.format(df.id.nunique()))\n",
    "print('Control group size: {}'.format(df.query('group == \"control\"').id.nunique()))\n",
    "print('Experiment group size: {}'.format(df.query('group == \"experiment\"').id.nunique()))"
   ]
  },
  {
   "cell_type": "code",
   "execution_count": 17,
   "metadata": {},
   "outputs": [
    {
     "name": "stdout",
     "output_type": "stream",
     "text": [
      "The control group enrollment rate is about 0.23644.\n"
     ]
    }
   ],
   "source": [
    "control_df = df.query('group == \"control\"')\n",
    "control_ctr = control_df.query('action == \"enroll\"').id.nunique() / control_df.query('action == \"view\"').id.nunique()\n",
    "print(f'The control group enrollment rate is about {control_ctr:.5f}.')"
   ]
  },
  {
   "cell_type": "code",
   "execution_count": 18,
   "metadata": {},
   "outputs": [
    {
     "name": "stdout",
     "output_type": "stream",
     "text": [
      "The experiment group enrollment rate is about 0.26687.\n"
     ]
    }
   ],
   "source": [
    "experiment_df = df.query('group == \"experiment\"')\n",
    "experiment_ctr = experiment_df.query('action == \"enroll\"').id.nunique() / experiment_df.query('action == \"view\"').id.nunique()\n",
    "print(f'The experiment group enrollment rate is about {experiment_ctr:.5f}.')"
   ]
  },
  {
   "cell_type": "code",
   "execution_count": 19,
   "metadata": {},
   "outputs": [
    {
     "name": "stdout",
     "output_type": "stream",
     "text": [
      "The observed difference is about 0.03043.\n"
     ]
    }
   ],
   "source": [
    "obs_diff = experiment_ctr - control_ctr\n",
    "print(f'The observed difference is about {obs_diff:.5f}.')"
   ]
  },
  {
   "cell_type": "code",
   "execution_count": 20,
   "metadata": {},
   "outputs": [
    {
     "data": {
      "image/png": "[encoded data removed]",
      "text/plain": [
       "<Figure size 432x288 with 1 Axes>"
      ]
     },
     "metadata": {
      "needs_background": "light"
     },
     "output_type": "display_data"
    }
   ],
   "source": [
    "diffs = []\n",
    "for _ in range(10000):\n",
    "    b_sample = df.sample(df.shape[0], replace=True) #bootstrap sampling\n",
    "    control_df = b_sample.query('group == \"control\"')\n",
    "    experiment_df = b_sample.query('group == \"experiment\"')\n",
    "    control_ctr = control_df.query('action == \"enroll\"').id.nunique() / control_df.query('action == \"view\"').id.nunique()\n",
    "    experiment_ctr = experiment_df.query('action == \"enroll\"').id.nunique() / experiment_df.query('action == \"view\"').id.nunique()\n",
    "    diffs.append(experiment_ctr - control_ctr)\n",
    "diffs = np.array(diffs)\n",
    "plt.hist(diffs, bins=50);"
   ]
  },
  {
   "cell_type": "code",
   "execution_count": 21,
   "metadata": {},
   "outputs": [
    {
     "data": {
      "image/png": "[encoded data removed]",
      "text/plain": [
       "<Figure size 432x288 with 1 Axes>"
      ]
     },
     "metadata": {
      "needs_background": "light"
     },
     "output_type": "display_data"
    }
   ],
   "source": [
    "np.random.seed(42)\n",
    "null_vals = np.random.normal(0, diffs.std(), diffs.size)\n",
    "\n",
    "ax = plt.hist(null_vals, bins=50)\n",
    "plt.axvline(x=obs_diff, color='red', linestyle='--')\n",
    "plt.text(x=obs_diff*1.05, y=ax[0].mean(), s=' observed\\ndifference');"
   ]
  },
  {
   "cell_type": "code",
   "execution_count": 22,
   "metadata": {},
   "outputs": [
    {
     "name": "stdout",
     "output_type": "stream",
     "text": [
      "The p-value is 0.02230\n"
     ]
    }
   ],
   "source": [
    "p_value = (null_vals > obs_diff).mean()\n",
    "p_values.append(p_value)\n",
    "print(f'The p-value is {p_value:.5f}')"
   ]
  },
  {
   "cell_type": "markdown",
   "metadata": {},
   "source": [
    "**With a type I error rate of 0.05, we reject the null hypothesis.**"
   ]
  },
  {
   "cell_type": "markdown",
   "metadata": {},
   "source": [
    "#### Average Reading Duration <a id='avg_reading'></a>"
   ]
  },
  {
   "cell_type": "code",
   "execution_count": 23,
   "metadata": {},
   "outputs": [
    {
     "data": {
      "text/html": [
       "<div>\n",
       "<style scoped>\n",
       "    .dataframe tbody tr th:only-of-type {\n",
       "        vertical-align: middle;\n",
       "    }\n",
       "\n",
       "    .dataframe tbody tr th {\n",
       "        vertical-align: top;\n",
       "    }\n",
       "\n",
       "    .dataframe thead th {\n",
       "        text-align: right;\n",
       "    }\n",
       "</style>\n",
       "<table border=\"1\" class=\"dataframe\">\n",
       "  <thead>\n",
       "    <tr style=\"text-align: right;\">\n",
       "      <th></th>\n",
       "      <th>id</th>\n",
       "      <th>group</th>\n",
       "      <th>duration</th>\n",
       "    </tr>\n",
       "  </thead>\n",
       "  <tbody>\n",
       "    <tr>\n",
       "      <th>0</th>\n",
       "      <td>183260</td>\n",
       "      <td>control</td>\n",
       "      <td>107.331484</td>\n",
       "    </tr>\n",
       "    <tr>\n",
       "      <th>1</th>\n",
       "      <td>183615</td>\n",
       "      <td>experiment</td>\n",
       "      <td>24.627594</td>\n",
       "    </tr>\n",
       "    <tr>\n",
       "      <th>2</th>\n",
       "      <td>184277</td>\n",
       "      <td>experiment</td>\n",
       "      <td>193.212489</td>\n",
       "    </tr>\n",
       "    <tr>\n",
       "      <th>3</th>\n",
       "      <td>184360</td>\n",
       "      <td>experiment</td>\n",
       "      <td>226.586283</td>\n",
       "    </tr>\n",
       "    <tr>\n",
       "      <th>4</th>\n",
       "      <td>184589</td>\n",
       "      <td>experiment</td>\n",
       "      <td>12.052097</td>\n",
       "    </tr>\n",
       "  </tbody>\n",
       "</table>\n",
       "</div>"
      ],
      "text/plain": [
       "       id       group    duration\n",
       "0  183260     control  107.331484\n",
       "1  183615  experiment   24.627594\n",
       "2  184277  experiment  193.212489\n",
       "3  184360  experiment  226.586283\n",
       "4  184589  experiment   12.052097"
      ]
     },
     "execution_count": 23,
     "metadata": {},
     "output_type": "execute_result"
    }
   ],
   "source": [
    "views = df.query('action == \"view\"')\n",
    "reading_times = views.groupby(['id','group'])['duration'].mean()\n",
    "reading_times = reading_times.reset_index()\n",
    "reading_times.head()"
   ]
  },
  {
   "cell_type": "code",
   "execution_count": 24,
   "metadata": {},
   "outputs": [
    {
     "name": "stdout",
     "output_type": "stream",
     "text": [
      "The average view time for control group is 115.41 seconds.\n",
      "The average view time for experiment group is 130.93 seconds.\n"
     ]
    }
   ],
   "source": [
    "control_mean = df.query('group == \"control\"')['duration'].mean()\n",
    "experiment_mean = df.query('group == \"experiment\"')['duration'].mean()\n",
    "print(f'The average view time for control group is {control_mean:.2f} seconds.\\n\\\n",
    "The average view time for experiment group is {experiment_mean:.2f} seconds.')"
   ]
  },
  {
   "cell_type": "code",
   "execution_count": 25,
   "metadata": {},
   "outputs": [
    {
     "name": "stdout",
     "output_type": "stream",
     "text": [
      "The observed difference is about 15.525.\n"
     ]
    }
   ],
   "source": [
    "obs_diff = experiment_mean - control_mean\n",
    "print(f'The observed difference is about {obs_diff:.3f}.')"
   ]
  },
  {
   "cell_type": "code",
   "execution_count": 26,
   "metadata": {},
   "outputs": [
    {
     "data": {
      "image/png": "[encoded data removed]",
      "text/plain": [
       "<Figure size 432x288 with 1 Axes>"
      ]
     },
     "metadata": {
      "needs_background": "light"
     },
     "output_type": "display_data"
    }
   ],
   "source": [
    "diffs = []\n",
    "for _ in range(10000):\n",
    "    b_sample = df.sample(df.shape[0], replace=True) #bootstrap sampling\n",
    "    control_mean = b_sample.query('group == \"control\"')['duration'].mean()\n",
    "    experiment_mean = b_sample.query('group == \"experiment\"')['duration'].mean()\n",
    "    diffs.append(experiment_mean - control_mean)\n",
    "diffs = np.array(diffs)\n",
    "plt.hist(diffs, bins=50);"
   ]
  },
  {
   "cell_type": "code",
   "execution_count": 27,
   "metadata": {},
   "outputs": [
    {
     "data": {
      "image/png": "[encoded data removed]",
      "text/plain": [
       "<Figure size 432x288 with 1 Axes>"
      ]
     },
     "metadata": {
      "needs_background": "light"
     },
     "output_type": "display_data"
    }
   ],
   "source": [
    "np.random.seed(42)\n",
    "null_vals = np.random.normal(0, diffs.std(), diffs.size)\n",
    "\n",
    "ax = plt.hist(null_vals, bins=50)\n",
    "plt.axvline(x=obs_diff, color='red', linestyle='--')\n",
    "plt.text(x=obs_diff*.7, y=ax[0].mean(), s=' observed\\ndifference');"
   ]
  },
  {
   "cell_type": "code",
   "execution_count": 28,
   "metadata": {},
   "outputs": [
    {
     "name": "stdout",
     "output_type": "stream",
     "text": [
      "The p-value is 0.00000\n"
     ]
    }
   ],
   "source": [
    "p_value = (null_vals > obs_diff).mean()\n",
    "p_values.append(p_value)\n",
    "print(f'The p-value is {p_value:.5f}')"
   ]
  },
  {
   "cell_type": "markdown",
   "metadata": {},
   "source": [
    "**With a type I error rate of 0.05, we reject the null hypothesis.**"
   ]
  },
  {
   "cell_type": "markdown",
   "metadata": {},
   "source": [
    "#### Average Classroom Time <a id='avg_classroom'></a>"
   ]
  },
  {
   "cell_type": "code",
   "execution_count": 29,
   "metadata": {},
   "outputs": [
    {
     "data": {
      "text/html": [
       "<div>\n",
       "<style scoped>\n",
       "    .dataframe tbody tr th:only-of-type {\n",
       "        vertical-align: middle;\n",
       "    }\n",
       "\n",
       "    .dataframe tbody tr th {\n",
       "        vertical-align: top;\n",
       "    }\n",
       "\n",
       "    .dataframe thead th {\n",
       "        text-align: right;\n",
       "    }\n",
       "</style>\n",
       "<table border=\"1\" class=\"dataframe\">\n",
       "  <thead>\n",
       "    <tr style=\"text-align: right;\">\n",
       "      <th></th>\n",
       "      <th>timestamp</th>\n",
       "      <th>id</th>\n",
       "      <th>group</th>\n",
       "      <th>total_days</th>\n",
       "      <th>completed</th>\n",
       "    </tr>\n",
       "  </thead>\n",
       "  <tbody>\n",
       "    <tr>\n",
       "      <th>0</th>\n",
       "      <td>2015-08-10 17:06:01.032740</td>\n",
       "      <td>610019</td>\n",
       "      <td>experiment</td>\n",
       "      <td>97</td>\n",
       "      <td>True</td>\n",
       "    </tr>\n",
       "    <tr>\n",
       "      <th>1</th>\n",
       "      <td>2015-08-10 17:15:28.950975</td>\n",
       "      <td>690224</td>\n",
       "      <td>control</td>\n",
       "      <td>75</td>\n",
       "      <td>False</td>\n",
       "    </tr>\n",
       "    <tr>\n",
       "      <th>2</th>\n",
       "      <td>2015-08-10 17:34:40.920384</td>\n",
       "      <td>564994</td>\n",
       "      <td>experiment</td>\n",
       "      <td>128</td>\n",
       "      <td>True</td>\n",
       "    </tr>\n",
       "    <tr>\n",
       "      <th>3</th>\n",
       "      <td>2015-08-10 17:50:39.847374</td>\n",
       "      <td>849588</td>\n",
       "      <td>experiment</td>\n",
       "      <td>66</td>\n",
       "      <td>False</td>\n",
       "    </tr>\n",
       "    <tr>\n",
       "      <th>4</th>\n",
       "      <td>2015-08-10 19:10:40.650599</td>\n",
       "      <td>849826</td>\n",
       "      <td>experiment</td>\n",
       "      <td>34</td>\n",
       "      <td>False</td>\n",
       "    </tr>\n",
       "  </tbody>\n",
       "</table>\n",
       "</div>"
      ],
      "text/plain": [
       "                    timestamp      id       group  total_days  completed\n",
       "0  2015-08-10 17:06:01.032740  610019  experiment          97       True\n",
       "1  2015-08-10 17:15:28.950975  690224     control          75      False\n",
       "2  2015-08-10 17:34:40.920384  564994  experiment         128       True\n",
       "3  2015-08-10 17:50:39.847374  849588  experiment          66      False\n",
       "4  2015-08-10 19:10:40.650599  849826  experiment          34      False"
      ]
     },
     "execution_count": 29,
     "metadata": {},
     "output_type": "execute_result"
    }
   ],
   "source": [
    "df = pd.read_csv('data/classroom_actions.csv')\n",
    "df.head()"
   ]
  },
  {
   "cell_type": "markdown",
   "metadata": {},
   "source": [
    "##### Some basic statistics of the experiment"
   ]
  },
  {
   "cell_type": "code",
   "execution_count": 30,
   "metadata": {},
   "outputs": [
    {
     "name": "stdout",
     "output_type": "stream",
     "text": [
      "The experiment started at 2015-08-10, and ended at 2016-01-19 for about 4 months.\n"
     ]
    }
   ],
   "source": [
    "print('The experiment started at {}, and ended at {} for about 4 months.'.format(df.timestamp.min()[:10], df.timestamp.max()[:10]))"
   ]
  },
  {
   "cell_type": "code",
   "execution_count": 31,
   "metadata": {},
   "outputs": [
    {
     "name": "stdout",
     "output_type": "stream",
     "text": [
      "Total number of actions: 3829\n",
      "Number of unique users: 3829\n",
      "Control group size: 1664\n",
      "Experiment group size: 2165\n"
     ]
    }
   ],
   "source": [
    "print('Total number of actions: {}'.format(df.shape[0]))\n",
    "print('Number of unique users: {}'.format(df.id.nunique()))\n",
    "print('Control group size: {}'.format(df.query('group == \"control\"').id.nunique()))\n",
    "print('Experiment group size: {}'.format(df.query('group == \"experiment\"').id.nunique()))"
   ]
  },
  {
   "cell_type": "code",
   "execution_count": 32,
   "metadata": {},
   "outputs": [
    {
     "name": "stdout",
     "output_type": "stream",
     "text": [
      "The average classroom time for control group is 73.37 days\n",
      "The average classroom time for experiment group is 74.67 days.\n"
     ]
    }
   ],
   "source": [
    "control_mean = df.query('group == \"control\"').total_days.mean()\n",
    "experiment_mean = df.query('group == \"experiment\"').total_days.mean()\n",
    "print(f'The average classroom time for control group is {control_mean:.2f} days\\n\\\n",
    "The average classroom time for experiment group is {experiment_mean:.2f} days.')"
   ]
  },
  {
   "cell_type": "code",
   "execution_count": 33,
   "metadata": {},
   "outputs": [
    {
     "name": "stdout",
     "output_type": "stream",
     "text": [
      "The observed difference is about 1.303.\n"
     ]
    }
   ],
   "source": [
    "obs_diff = experiment_mean - control_mean\n",
    "print(f'The observed difference is about {obs_diff:.3f}.')"
   ]
  },
  {
   "cell_type": "code",
   "execution_count": 34,
   "metadata": {},
   "outputs": [],
   "source": [
    "diffs = []\n",
    "for _ in range(10000):\n",
    "    b_sample = df.sample(df.shape[0], replace=True) #bootstrap sampling\n",
    "    control_mean = b_sample.query('group == \"control\"')['total_days'].mean()\n",
    "    experiment_mean = b_sample.query('group == \"experiment\"')['total_days'].mean()\n",
    "    diffs.append(experiment_mean - control_mean)\n",
    "diffs = np.array(diffs)\n",
    "# plt.hist(diffs, bins=50);"
   ]
  },
  {
   "cell_type": "code",
   "execution_count": 35,
   "metadata": {},
   "outputs": [
    {
     "data": {
      "image/png": "[encoded data removed]",
      "text/plain": [
       "<Figure size 432x288 with 1 Axes>"
      ]
     },
     "metadata": {
      "needs_background": "light"
     },
     "output_type": "display_data"
    }
   ],
   "source": [
    "np.random.seed(42)\n",
    "null_vals = np.random.normal(0, diffs.std(), diffs.size)\n",
    "\n",
    "ax = plt.hist(null_vals, bins=50)\n",
    "plt.axvline(x=obs_diff, color='red', linestyle='--')\n",
    "plt.text(x=obs_diff*1.05, y=ax[0].mean(), s=' observed\\ndifference');"
   ]
  },
  {
   "cell_type": "code",
   "execution_count": 36,
   "metadata": {},
   "outputs": [
    {
     "name": "stdout",
     "output_type": "stream",
     "text": [
      "The p-value is 0.03740\n"
     ]
    }
   ],
   "source": [
    "p_value = (null_vals > obs_diff).mean()\n",
    "p_values.append(p_value)\n",
    "print(f'The p-value is {p_value:.5f}')"
   ]
  },
  {
   "cell_type": "markdown",
   "metadata": {},
   "source": [
    "**With a type I error rate of 0.05, we reject the null hypothesis.**"
   ]
  },
  {
   "cell_type": "markdown",
   "metadata": {},
   "source": [
    "**Practically significant?**\n",
    "\n",
    "Even if the increase in classroom time is statistically significant, engaging students for 1.3 more days in the classroom, when they average around 74 days in total, doesn't seem to indicate a large enough value to launch this change from a practical perspective for Audacity."
   ]
  },
  {
   "cell_type": "markdown",
   "metadata": {},
   "source": [
    "#### Completion Rate <a id='completion'></a>"
   ]
  },
  {
   "cell_type": "code",
   "execution_count": 37,
   "metadata": {},
   "outputs": [
    {
     "name": "stdout",
     "output_type": "stream",
     "text": [
      "The control group completion rate is about 0.37200.\n"
     ]
    }
   ],
   "source": [
    "control_df = df.query('group == \"control\"')\n",
    "control_ctr = control_df.completed.mean()\n",
    "print(f'The control group completion rate is about {control_ctr:.5f}.')"
   ]
  },
  {
   "cell_type": "code",
   "execution_count": 38,
   "metadata": {},
   "outputs": [
    {
     "name": "stdout",
     "output_type": "stream",
     "text": [
      "The experiment group completion rate is about 0.39353.\n"
     ]
    }
   ],
   "source": [
    "experiment_df = df.query('group == \"experiment\"')\n",
    "experiment_ctr = experiment_df.completed.mean()\n",
    "print(f'The experiment group completion rate is about {experiment_ctr:.5f}.')"
   ]
  },
  {
   "cell_type": "code",
   "execution_count": 39,
   "metadata": {},
   "outputs": [
    {
     "name": "stdout",
     "output_type": "stream",
     "text": [
      "The observed difference is about 0.022.\n"
     ]
    }
   ],
   "source": [
    "obs_diff = experiment_ctr - control_ctr\n",
    "print(f'The observed difference is about {obs_diff:.3f}.')"
   ]
  },
  {
   "cell_type": "code",
   "execution_count": 40,
   "metadata": {},
   "outputs": [],
   "source": [
    "diffs = []\n",
    "for _ in range(10000):\n",
    "    b_sample = df.sample(df.shape[0], replace=True) #bootstrap sampling\n",
    "    control_mean = b_sample.query('group == \"control\"')['completed'].mean()\n",
    "    experiment_mean = b_sample.query('group == \"experiment\"')['completed'].mean()\n",
    "    diffs.append(experiment_mean - control_mean)\n",
    "diffs = np.array(diffs)\n",
    "# plt.hist(diffs, bins=50);"
   ]
  },
  {
   "cell_type": "code",
   "execution_count": 41,
   "metadata": {},
   "outputs": [
    {
     "data": {
      "image/png": "[encoded data removed]",
      "text/plain": [
       "<Figure size 432x288 with 1 Axes>"
      ]
     },
     "metadata": {
      "needs_background": "light"
     },
     "output_type": "display_data"
    }
   ],
   "source": [
    "np.random.seed(42)\n",
    "null_vals = np.random.normal(0, diffs.std(), diffs.size)\n",
    "\n",
    "ax = plt.hist(null_vals, bins=50)\n",
    "plt.axvline(x=obs_diff, color='red', linestyle='--')\n",
    "plt.text(x=obs_diff*1.2, y=ax[0].mean(), s=' observed\\ndifference');"
   ]
  },
  {
   "cell_type": "code",
   "execution_count": 42,
   "metadata": {},
   "outputs": [
    {
     "name": "stdout",
     "output_type": "stream",
     "text": [
      "The p-value is 0.08610\n"
     ]
    }
   ],
   "source": [
    "p_value = (null_vals > obs_diff).mean()\n",
    "p_values.append(p_value)\n",
    "print(f'The p-value is {p_value:.5f}')"
   ]
  },
  {
   "cell_type": "markdown",
   "metadata": {},
   "source": [
    "**With a type I error rate of 0.05, we cannot reject the null hypothesis.**"
   ]
  },
  {
   "cell_type": "markdown",
   "metadata": {},
   "source": [
    "#### Analyzing multiple metrics <a id='multiple_metrics'></a>\n",
    "\n",
    "The more metrics you evaluate, the more likely you are to observe significant differences just by chance. This [**multiple comparisions problem**](https://en.wikipedia.org/wiki/Multiple_comparisons_problem) can be handled in several ways.\n",
    "\n",
    "One common way is the [**Bonferroni Correction**](https://en.wikipedia.org/wiki/Bonferroni_correction). If our original alpha value was 0.05, with four tests, we should choose our new Bonferroni corrected alpha value to be $0.05/4 = 0.0125$.\n",
    "\n",
    "Given our 4 p-values of the 4 tests:"
   ]
  },
  {
   "cell_type": "code",
   "execution_count": 43,
   "metadata": {},
   "outputs": [
    {
     "name": "stdout",
     "output_type": "stream",
     "text": [
      "Enrollment Rate: 0.0223\n",
      "Average Reading Duration: 0.0000\n",
      "Average Classroom Time: 0.0374\n",
      "Completion Rate: 0.0861\n"
     ]
    }
   ],
   "source": [
    "metrics = ['Enrollment Rate', 'Average Reading Duration', 'Average Classroom Time', 'Completion Rate']\n",
    "for i, pvalue in enumerate(p_values):\n",
    "    print(f'{metrics[i]}: {pvalue:.4f}')"
   ]
  },
  {
   "cell_type": "markdown",
   "metadata": {},
   "source": [
    "We can only be sure that the `Average reading duration` is statistically significant."
   ]
  },
  {
   "cell_type": "markdown",
   "metadata": {},
   "source": [
    "Since the Bonferroni method is too conservative when we expect correlation among metrics, we can better approach this problem with more sophisticated methods, such as the [**closed testing procedure**](https://en.wikipedia.org/wiki/Closed_testing_procedure), [**Boole-Bonferroni bound**](https://en.wikipedia.org/wiki/Boole%27s_inequality), and the [**Holm-Bonferroni method**](https://en.wikipedia.org/wiki/Holm%E2%80%93Bonferroni_method). These are less conservative and take this correlation into account.\n",
    "\n",
    "If you do choose to use a less conservative method, just make sure the assumptions of that method are truly met in your situation, and that you're not just trying to cheat on a p-value. Choosing a poorly suited test just to get significant results will only lead to misguided decisions that harm your company's performance in the long run."
   ]
  },
  {
   "cell_type": "markdown",
   "metadata": {},
   "source": [
    "## Difficulties in A/B Testing <a id='difficulties'></a>"
   ]
  },
  {
   "cell_type": "markdown",
   "metadata": {},
   "source": [
    "Being able to determine the statistical significance of performance differences in A/B test results is valuable. However, there are many other factors to consider to ensure your A/B tests are successful. In the real world, designing, running, and drawing conclusions from an A/B test to lead you to the right decisions can be tricky.\n",
    "\n",
    "We will take a look at three scenarios where Audacity conducted an A/B test that led to a poor decision."
   ]
  },
  {
   "cell_type": "markdown",
   "metadata": {},
   "source": [
    "### Scenario 1: <a id='s1'></a>\n",
    "\n",
    "**EXPERIMENT:** Audacity tests a new layout in the classroom to see if it would help engage students. After running an A/B test for two weeks, they find that average classroom times and completion rates decrease with the new layout, and decide against launching the change.\n",
    "\n",
    "**REALITY:** What they don't know, is that the classroom times and completion rates actually increase significantly for new students using the new layout. In the long run, the layout would help existing students too, but they are currently experiencing change aversion.\n",
    "\n",
    "**POTENTIAL REASON(S):**\n",
    "\n",
    "1. The experiment included existing users who would bias results in a short time frame.\n",
    "2. The experiment wasn't run long enough to allow existing users to adjust to the change.\n",
    "\n",
    "In order to protect against change aversion, we need to run the experiment long enough for existing users to acclimate to the changes. Fortunately, users who are new won't have preconceptions regarding the original version."
   ]
  },
  {
   "cell_type": "markdown",
   "metadata": {},
   "source": [
    "### Scenario 2: <a id='s2'></a>\n",
    "\n",
    "**EXPERIMENT:** Audacity tests a new feature on their landing page that guides users through their course selection process and makes recommendations. After running an A/B test for a month, they find that the click through rates on course pages increase (enrollment rates increase) with the new feature, and decide to launch the change.\n",
    "\n",
    "**REALITY:** What they don't know, is that although the number of total enrollments increase with the new feature, the courses they are purchasing are almost exclusively shorter and cheaper courses, which brings down the revenue for Audacity. It turns out the feature is leading more students to choose more courses with smaller commitments.\n",
    "\n",
    "**POTENTIAL REASON(S):**\n",
    "\n",
    "1. Enrollment rates alone was not the best metric for this experiment.\n",
    "2. The metric(s) didn't account for revenue, which is ultimately objective with their decision, to increase revenue.\n",
    "\n",
    "Measuring the right metric is a key component to A/B testing. In this case, we would want to account for revenue more so than enrollment rates alone."
   ]
  },
  {
   "cell_type": "markdown",
   "metadata": {},
   "source": [
    "### Scenario 3: <a id='s3'></a>\n",
    "\n",
    "**EXPERIMENT:** Audacity tests a new description for a difficult course that gets very few enrollments. They hope this description is more exciting and motivates students to take it. After running an A/B test for five weeks, they find that the enrollment rate increases with the new description, and decide to launch the change.\n",
    "\n",
    "**REALITY:** What they don't know, is that although the enrollment rate appears to increase with the new description, the results from this A/B test are unreliable and largely due to chance, because fewer than 40 out of thousands of visitors enrolled during this experiment. This makes even one new student for the course substantially impact the results and potentially even the conclusion.\n",
    "\n",
    "**POTENTIAL REASON(S):**\n",
    "\n",
    "1. This course page had too little traffic and conversions to produce significant and repeatable results in this time frame.\n",
    "\n",
    "In this case, we needed to have more time and traffic to the page to see if the change had a significant impact."
   ]
  },
  {
   "cell_type": "markdown",
   "metadata": {},
   "source": [
    "### Common factors to consider: <a id='common_factor'></a>\n",
    "\n",
    "\n",
    "* Novelty effect and change aversion when existing users first experience a change\n",
    "* Sufficient traffic and conversions to have significant and repeatable results\n",
    "* Best metric choice for making the ultimate decision (eg. measuring revenue vs. clicks)\n",
    "* Long enough run time for the experiment to account for changes in behavior based on time of day/week or seasonal events.\n",
    "* Practical significance of a conversion rate (the cost of launching a new feature vs. the gain from the increase in conversion)\n",
    "* Consistency among test subjects in the control and experiment group (imbalance in the population represented in each group can lead to situations like [Simpson's Paradox](https://en.wikipedia.org/wiki/Simpson%27s_paradox))"
   ]
  }
 ],
 "metadata": {
  "kernelspec": {
   "display_name": "Python 3",
   "language": "python",
   "name": "python3"
  },
  "language_info": {
   "codemirror_mode": {
    "name": "ipython",
    "version": 3
   },
   "file_extension": ".py",
   "mimetype": "text/x-python",
   "name": "python",
   "nbconvert_exporter": "python",
   "pygments_lexer": "ipython3",
   "version": "3.6.7"
  }
 },
 "nbformat": 4,
 "nbformat_minor": 2
}
